{
  "cells": [
    {
      "cell_type": "markdown",
      "id": "43ecc84a",
      "metadata": {
        "id": "43ecc84a"
      },
      "source": [
        "# Basic Data Modeling and Extraction from APIs"
      ]
    },
    {
      "cell_type": "markdown",
      "id": "e5ef12ed",
      "metadata": {
        "id": "e5ef12ed"
      },
      "source": [
        "In this notebook, we will learn how to fetch data from a public API, JSONPlaceholder, and store it in an SQLite database. We will also practice SQL queries to manipulate and retrieve data.\n",
        "\n",
        "### Concepts Covered:\n",
        "- Fetching data from an API using `requests` library\n",
        "- Creating SQLite tables\n",
        "- Inserting data into tables\n",
        "- Querying the data using SQL commands"
      ]
    },
    {
      "cell_type": "markdown",
      "id": "31bf1fbc",
      "metadata": {
        "id": "31bf1fbc"
      },
      "source": [
        "## Step 1: Setup the SQLite Database\n",
        "We will first create the necessary tables that match the JSONPlaceholder data schema."
      ]
    },
    {
      "cell_type": "code",
      "execution_count": null,
      "id": "66800b0a",
      "metadata": {
        "colab": {
          "base_uri": "https://localhost:8080/"
        },
        "id": "66800b0a",
        "outputId": "0db310c2-7e03-4fc5-a05c-4713cc7e5194"
      },
      "outputs": [
        {
          "output_type": "execute_result",
          "data": {
            "text/plain": [
              "[('users',), ('posts',), ('comments',), ('albums',), ('photos',), ('todos',)]"
            ]
          },
          "metadata": {},
          "execution_count": 15
        }
      ],
      "source": [
        "import sqlite3\n",
        "import pandas as pd\n",
        "from IPython.display import display\n",
        "import uuid\n",
        "\n",
        "# Create a new SQLite database\n",
        "conn = sqlite3.connect(str(uuid.uuid4()) + '.db')\n",
        "cursor = conn.cursor()\n",
        "\n",
        "# Create tables\n",
        "create_users_table = '''\n",
        "CREATE TABLE IF NOT EXISTS users (\n",
        "    id INTEGER PRIMARY KEY,\n",
        "    name TEXT,\n",
        "    username TEXT,\n",
        "    email TEXT,\n",
        "    address TEXT,\n",
        "    phone INTEGER,\n",
        "    website TEXT,\n",
        "    company TEXT\n",
        ");\n",
        "'''\n",
        "\n",
        "create_posts_table = '''\n",
        "CREATE TABLE IF NOT EXISTS posts (\n",
        "    id INTEGER PRIMARY KEY,\n",
        "    user_id INTEGER,\n",
        "    title TEXT,\n",
        "    body TEXT,\n",
        "    FOREIGN KEY (user_id) REFERENCES users(id)\n",
        ");\n",
        "'''\n",
        "\n",
        "create_comments_table = '''\n",
        "CREATE TABLE IF NOT EXISTS comments (\n",
        "    id INTEGER PRIMARY KEY,\n",
        "    post_id INTEGER,\n",
        "    name TEXT,\n",
        "    email TEXT,\n",
        "    body TEXT,\n",
        "    FOREIGN KEY (post_id) REFERENCES posts(id)\n",
        ");\n",
        "'''\n",
        "\n",
        "create_albums_table = '''\n",
        "CREATE TABLE IF NOT EXISTS albums (\n",
        "    id INTEGER PRIMARY KEY,\n",
        "    user_id INTEGER,\n",
        "    title TEXT,\n",
        "    FOREIGN KEY (user_id) REFERENCES users(id)\n",
        ");\n",
        "'''\n",
        "\n",
        "create_photos_table = '''\n",
        "CREATE TABLE IF NOT EXISTS photos (\n",
        "    id INTEGER PRIMARY KEY,\n",
        "    album_id INTEGER,\n",
        "    title TEXT,\n",
        "    url TEXT,\n",
        "    thumbnail_url TEXT,\n",
        "    FOREIGN KEY (album_id) REFERENCES albums(id)\n",
        ");\n",
        "'''\n",
        "\n",
        "create_todos_table = '''\n",
        "CREATE TABLE IF NOT EXISTS todos (\n",
        "    id INTEGER PRIMARY KEY,\n",
        "    user_id INTEGER,\n",
        "    title TEXT,\n",
        "    completed BOOLEAN,\n",
        "    FOREIGN KEY (user_id) REFERENCES users(id)\n",
        ");\n",
        "'''\n",
        "\n",
        "# Execute the SQL commands\n",
        "cursor.execute(create_users_table)\n",
        "cursor.execute(create_posts_table)\n",
        "cursor.execute(create_comments_table)\n",
        "cursor.execute(create_albums_table)\n",
        "cursor.execute(create_photos_table)\n",
        "cursor.execute(create_todos_table)\n",
        "\n",
        "# Commit the changes\n",
        "conn.commit()\n",
        "\n",
        "# Verify the tables were created\n",
        "cursor.execute(\"SELECT name FROM sqlite_master WHERE type='table';\")\n",
        "tables = cursor.fetchall()\n",
        "tables"
      ]
    },
    {
      "cell_type": "code",
      "source": [],
      "metadata": {
        "id": "Lhm0wsbEBSWa"
      },
      "id": "Lhm0wsbEBSWa",
      "execution_count": null,
      "outputs": []
    },
    {
      "cell_type": "markdown",
      "id": "1c6e2db2",
      "metadata": {
        "id": "1c6e2db2"
      },
      "source": [
        "## Step 2: Fetch Data from JSONPlaceholder API\n",
        "We will use the `requests` library to fetch data from the API for each entity: users, posts, comments, albums, photos, and todos."
      ]
    },
    {
      "cell_type": "code",
      "execution_count": null,
      "id": "5f80727a",
      "metadata": {
        "colab": {
          "base_uri": "https://localhost:8080/"
        },
        "id": "5f80727a",
        "outputId": "f87e28f5-3477-4471-8032-2ad1f67cd317"
      },
      "outputs": [
        {
          "output_type": "execute_result",
          "data": {
            "text/plain": [
              "([{'id': 1,\n",
              "   'name': 'Leanne Graham',\n",
              "   'username': 'Bret',\n",
              "   'email': 'Sincere@april.biz',\n",
              "   'address': {'street': 'Kulas Light',\n",
              "    'suite': 'Apt. 556',\n",
              "    'city': 'Gwenborough',\n",
              "    'zipcode': '92998-3874',\n",
              "    'geo': {'lat': '-37.3159', 'lng': '81.1496'}},\n",
              "   'phone': '1-770-736-8031 x56442',\n",
              "   'website': 'hildegard.org',\n",
              "   'company': {'name': 'Romaguera-Crona',\n",
              "    'catchPhrase': 'Multi-layered client-server neural-net',\n",
              "    'bs': 'harness real-time e-markets'}},\n",
              "  {'id': 2,\n",
              "   'name': 'Ervin Howell',\n",
              "   'username': 'Antonette',\n",
              "   'email': 'Shanna@melissa.tv',\n",
              "   'address': {'street': 'Victor Plains',\n",
              "    'suite': 'Suite 879',\n",
              "    'city': 'Wisokyburgh',\n",
              "    'zipcode': '90566-7771',\n",
              "    'geo': {'lat': '-43.9509', 'lng': '-34.4618'}},\n",
              "   'phone': '010-692-6593 x09125',\n",
              "   'website': 'anastasia.net',\n",
              "   'company': {'name': 'Deckow-Crist',\n",
              "    'catchPhrase': 'Proactive didactic contingency',\n",
              "    'bs': 'synergize scalable supply-chains'}}],\n",
              " [{'userId': 1,\n",
              "   'id': 1,\n",
              "   'title': 'sunt aut facere repellat provident occaecati excepturi optio reprehenderit',\n",
              "   'body': 'quia et suscipit\\nsuscipit recusandae consequuntur expedita et cum\\nreprehenderit molestiae ut ut quas totam\\nnostrum rerum est autem sunt rem eveniet architecto'},\n",
              "  {'userId': 1,\n",
              "   'id': 2,\n",
              "   'title': 'qui est esse',\n",
              "   'body': 'est rerum tempore vitae\\nsequi sint nihil reprehenderit dolor beatae ea dolores neque\\nfugiat blanditiis voluptate porro vel nihil molestiae ut reiciendis\\nqui aperiam non debitis possimus qui neque nisi nulla'}],\n",
              " [{'postId': 1,\n",
              "   'id': 1,\n",
              "   'name': 'id labore ex et quam laborum',\n",
              "   'email': 'Eliseo@gardner.biz',\n",
              "   'body': 'laudantium enim quasi est quidem magnam voluptate ipsam eos\\ntempora quo necessitatibus\\ndolor quam autem quasi\\nreiciendis et nam sapiente accusantium'},\n",
              "  {'postId': 1,\n",
              "   'id': 2,\n",
              "   'name': 'quo vero reiciendis velit similique earum',\n",
              "   'email': 'Jayne_Kuhic@sydney.com',\n",
              "   'body': 'est natus enim nihil est dolore omnis voluptatem numquam\\net omnis occaecati quod ullam at\\nvoluptatem error expedita pariatur\\nnihil sint nostrum voluptatem reiciendis et'}])"
            ]
          },
          "metadata": {},
          "execution_count": 16
        }
      ],
      "source": [
        "import requests\n",
        "\n",
        "\n",
        "# Define function to fetch data from API\n",
        "def fetch_data(endpoint):\n",
        "    url = f'https://jsonplaceholder.typicode.com/{endpoint}'\n",
        "    response = requests.get(url)\n",
        "    return response.json()\n",
        "\n",
        "# Fetch data\n",
        "users_data = fetch_data('users')\n",
        "posts_data = fetch_data('posts')\n",
        "comments_data = fetch_data('comments')\n",
        "albums_data = fetch_data('albums')\n",
        "photos_data = fetch_data('photos')\n",
        "todos_data = fetch_data('todos')\n",
        "\n",
        "# Print example data\n",
        "users_data[:2], posts_data[:2], comments_data[:2]"
      ]
    },
    {
      "cell_type": "markdown",
      "id": "eff1b72c",
      "metadata": {
        "id": "eff1b72c"
      },
      "source": [
        "## Step 3: Insert Data into SQLite Tables\n",
        "Now we will insert the fetched data into their corresponding SQLite tables."
      ]
    },
    {
      "cell_type": "code",
      "execution_count": null,
      "id": "a3ddc21a",
      "metadata": {
        "colab": {
          "base_uri": "https://localhost:8080/"
        },
        "id": "a3ddc21a",
        "outputId": "c5b797ef-5321-4284-bbb3-64d3c32694fd"
      },
      "outputs": [
        {
          "output_type": "stream",
          "name": "stdout",
          "text": [
            "Posts data inserted successfully.\n",
            "Comments data inserted successfully.\n",
            "Albums data inserted successfully.\n",
            "Photos data inserted successfully.\n",
            "Todos data inserted successfully.\n"
          ]
        }
      ],
      "source": [
        "# Insert users data into the users table\n",
        "def insert_users(data):\n",
        "    for user in data:\n",
        "        cursor.execute(\"\"\"\n",
        "        INSERT OR REPLACE INTO users (id, name, username, email, address, phone, website, company)\n",
        "        VALUES (?, ?, ?, ?, ?, ?, ?, ?)\n",
        "        \"\"\", (user['id'], user['name'], user['username'], user['email'],\n",
        "              str(user['address']), user['phone'], user['website'], str(user['company'])))\n",
        "    conn.commit()\n",
        "\n",
        "# Repeat similar for other tables\n",
        "insert_users(users_data)\n",
        "cursor.execute('SELECT * FROM users LIMIT 5;')\n",
        "cursor.fetchall()\n",
        "\n",
        "# Insert posts data into posts table\n",
        "def insert_posts(data):\n",
        "    for post in data:\n",
        "        cursor.execute(\"\"\"\n",
        "            INSERT OR REPLACE INTO posts (id, user_id, title, body)\n",
        "            VALUES (?, ?, ?, ?)\n",
        "        \"\"\", (post['id'], post['userId'], post['title'], post['body']))\n",
        "    conn.commit()\n",
        "\n",
        "insert_posts(posts_data)\n",
        "print(\"Posts data inserted successfully.\")\n",
        "cursor.execute('SELECT * FROM posts LIMIT 5;')\n",
        "cursor.fetchall()\n",
        "\n",
        "# Insert comments data into comments table\n",
        "def insert_comments(data):\n",
        "    for comment in data:\n",
        "        cursor.execute(\"\"\"\n",
        "            INSERT OR REPLACE INTO comments (id, post_id, name, email, body)\n",
        "            VALUES (?, ?, ?, ?, ?)\n",
        "        \"\"\", (comment['id'], comment['postId'], comment['name'], comment['email'], comment['body']))\n",
        "    conn.commit()\n",
        "\n",
        "insert_comments(comments_data)\n",
        "print(\"Comments data inserted successfully.\")\n",
        "\n",
        "# Insert albums data into albums table\n",
        "def insert_albums(data):\n",
        "    for album in data:\n",
        "        cursor.execute(\"\"\"\n",
        "            INSERT OR REPLACE INTO albums (id, user_id, title)\n",
        "            VALUES (?, ?, ?)\n",
        "        \"\"\", (album['id'], album['userId'], album['title']))\n",
        "    conn.commit()\n",
        "\n",
        "insert_albums(albums_data)\n",
        "print(\"Albums data inserted successfully.\")\n",
        "\n",
        "# Insert photos data into photos table\n",
        "def insert_photos(data):\n",
        "    for photo in data:\n",
        "        cursor.execute(\"\"\"\n",
        "            INSERT OR REPLACE INTO photos (id, album_id, title, url, thumbnail_url)\n",
        "            VALUES (?, ?, ?, ?, ?)\n",
        "        \"\"\", (photo['id'], photo['albumId'], photo['title'], photo['url'], photo['thumbnailUrl']))\n",
        "    conn.commit()\n",
        "insert_photos(photos_data)\n",
        "print(\"Photos data inserted successfully.\")\n",
        "\n",
        "# insert todos data into todo_tables\n",
        "def insert_todos(data):\n",
        "  for todo in data:\n",
        "    cursor.execute(\"\"\"\n",
        "    INSERT OR REPLACE INTO todos (id, user_id, title, completed)\n",
        "    VALUES (?, ?, ?, ?)\n",
        "    \"\"\", (todo['id'], todo['userId'], todo['title'], todo['completed']))\n",
        "    conn.commit()\n",
        "\n",
        "insert_todos(todos_data)\n",
        "print(\"Todos data inserted successfully.\")"
      ]
    },
    {
      "cell_type": "code",
      "source": [
        "cursor.execute('''SELECT * FROM users LIMIT 5''')\n",
        "cursor.fetchall()\n",
        "#conn.commit()"
      ],
      "metadata": {
        "colab": {
          "base_uri": "https://localhost:8080/"
        },
        "id": "wTlZr6ahBWeZ",
        "outputId": "a1f8319a-20a3-41bc-bf2b-b7eeeeb5903f"
      },
      "id": "wTlZr6ahBWeZ",
      "execution_count": null,
      "outputs": [
        {
          "output_type": "execute_result",
          "data": {
            "text/plain": [
              "[(1,\n",
              "  'Leanne Graham',\n",
              "  'Bret',\n",
              "  'Sincere@april.biz',\n",
              "  \"{'street': 'Kulas Light', 'suite': 'Apt. 556', 'city': 'Gwenborough', 'zipcode': '92998-3874', 'geo': {'lat': '-37.3159', 'lng': '81.1496'}}\",\n",
              "  '1-770-736-8031 x56442',\n",
              "  'hildegard.org',\n",
              "  \"{'name': 'Romaguera-Crona', 'catchPhrase': 'Multi-layered client-server neural-net', 'bs': 'harness real-time e-markets'}\"),\n",
              " (2,\n",
              "  'Ervin Howell',\n",
              "  'Antonette',\n",
              "  'Shanna@melissa.tv',\n",
              "  \"{'street': 'Victor Plains', 'suite': 'Suite 879', 'city': 'Wisokyburgh', 'zipcode': '90566-7771', 'geo': {'lat': '-43.9509', 'lng': '-34.4618'}}\",\n",
              "  '010-692-6593 x09125',\n",
              "  'anastasia.net',\n",
              "  \"{'name': 'Deckow-Crist', 'catchPhrase': 'Proactive didactic contingency', 'bs': 'synergize scalable supply-chains'}\"),\n",
              " (3,\n",
              "  'Clementine Bauch',\n",
              "  'Samantha',\n",
              "  'Nathan@yesenia.net',\n",
              "  \"{'street': 'Douglas Extension', 'suite': 'Suite 847', 'city': 'McKenziehaven', 'zipcode': '59590-4157', 'geo': {'lat': '-68.6102', 'lng': '-47.0653'}}\",\n",
              "  '1-463-123-4447',\n",
              "  'ramiro.info',\n",
              "  \"{'name': 'Romaguera-Jacobson', 'catchPhrase': 'Face to face bifurcated interface', 'bs': 'e-enable strategic applications'}\"),\n",
              " (4,\n",
              "  'Patricia Lebsack',\n",
              "  'Karianne',\n",
              "  'Julianne.OConner@kory.org',\n",
              "  \"{'street': 'Hoeger Mall', 'suite': 'Apt. 692', 'city': 'South Elvis', 'zipcode': '53919-4257', 'geo': {'lat': '29.4572', 'lng': '-164.2990'}}\",\n",
              "  '493-170-9623 x156',\n",
              "  'kale.biz',\n",
              "  \"{'name': 'Robel-Corkery', 'catchPhrase': 'Multi-tiered zero tolerance productivity', 'bs': 'transition cutting-edge web services'}\"),\n",
              " (5,\n",
              "  'Chelsey Dietrich',\n",
              "  'Kamren',\n",
              "  'Lucio_Hettinger@annie.ca',\n",
              "  \"{'street': 'Skiles Walks', 'suite': 'Suite 351', 'city': 'Roscoeview', 'zipcode': '33263', 'geo': {'lat': '-31.8129', 'lng': '62.5342'}}\",\n",
              "  '(254)954-1289',\n",
              "  'demarco.info',\n",
              "  \"{'name': 'Keebler LLC', 'catchPhrase': 'User-centric fault-tolerant solution', 'bs': 'revolutionize end-to-end systems'}\")]"
            ]
          },
          "metadata": {},
          "execution_count": 18
        }
      ]
    },
    {
      "cell_type": "markdown",
      "id": "cde3fb8f",
      "metadata": {
        "id": "cde3fb8f"
      },
      "source": [
        "## Step 4: Query Data from SQLite Tables\n",
        "Now let's run some SQL queries to retrieve the data we inserted."
      ]
    },
    {
      "cell_type": "code",
      "execution_count": null,
      "id": "74c3be2d",
      "metadata": {
        "colab": {
          "base_uri": "https://localhost:8080/"
        },
        "id": "74c3be2d",
        "outputId": "91639740-485f-4fd3-a5fd-fafd377743cd"
      },
      "outputs": [
        {
          "output_type": "execute_result",
          "data": {
            "text/plain": [
              "[(10,)]"
            ]
          },
          "metadata": {},
          "execution_count": 19
        }
      ],
      "source": [
        "# Example: Fetch posts made by user with ID 1\n",
        "cursor.execute(\"SELECT count(*) FROM posts where user_id = 1\")\n",
        "user_posts = cursor.fetchall()\n",
        "user_posts"
      ]
    },
    {
      "cell_type": "code",
      "execution_count": null,
      "id": "c0b2d34b",
      "metadata": {
        "colab": {
          "base_uri": "https://localhost:8080/"
        },
        "id": "c0b2d34b",
        "outputId": "70480f42-946a-445c-aa9b-7b693d007118"
      },
      "outputs": [
        {
          "output_type": "execute_result",
          "data": {
            "text/plain": [
              "[(1,\n",
              "  1,\n",
              "  'id labore ex et quam laborum',\n",
              "  'Eliseo@gardner.biz',\n",
              "  'laudantium enim quasi est quidem magnam voluptate ipsam eos\\ntempora quo necessitatibus\\ndolor quam autem quasi\\nreiciendis et nam sapiente accusantium'),\n",
              " (2,\n",
              "  1,\n",
              "  'quo vero reiciendis velit similique earum',\n",
              "  'Jayne_Kuhic@sydney.com',\n",
              "  'est natus enim nihil est dolore omnis voluptatem numquam\\net omnis occaecati quod ullam at\\nvoluptatem error expedita pariatur\\nnihil sint nostrum voluptatem reiciendis et'),\n",
              " (3,\n",
              "  1,\n",
              "  'odio adipisci rerum aut animi',\n",
              "  'Nikita@garfield.biz',\n",
              "  'quia molestiae reprehenderit quasi aspernatur\\naut expedita occaecati aliquam eveniet laudantium\\nomnis quibusdam delectus saepe quia accusamus maiores nam est\\ncum et ducimus et vero voluptates excepturi deleniti ratione'),\n",
              " (4,\n",
              "  1,\n",
              "  'alias odio sit',\n",
              "  'Lew@alysha.tv',\n",
              "  'non et atque\\noccaecati deserunt quas accusantium unde odit nobis qui voluptatem\\nquia voluptas consequuntur itaque dolor\\net qui rerum deleniti ut occaecati'),\n",
              " (5,\n",
              "  1,\n",
              "  'vero eaque aliquid doloribus et culpa',\n",
              "  'Hayden@althea.biz',\n",
              "  'harum non quasi et ratione\\ntempore iure ex voluptates in ratione\\nharum architecto fugit inventore cupiditate\\nvoluptates magni quo et')]"
            ]
          },
          "metadata": {},
          "execution_count": 20
        }
      ],
      "source": [
        "# Example: Fetch comments on post with ID 1\n",
        "cursor.execute(\"SELECT * FROM comments WHERE post_id = 1;\")\n",
        "post_comments = cursor.fetchall()\n",
        "post_comments"
      ]
    },
    {
      "cell_type": "markdown",
      "id": "e5d7141c",
      "metadata": {
        "id": "e5d7141c"
      },
      "source": [
        "## Step 5: Close the Connection\n",
        "Always close the connection when done."
      ]
    },
    {
      "cell_type": "code",
      "execution_count": null,
      "id": "532afef9",
      "metadata": {
        "id": "532afef9"
      },
      "outputs": [],
      "source": [
        "# # Close the connection\n",
        "# cursor.close()\n",
        "# #conn.close()\n"
      ]
    },
    {
      "cell_type": "markdown",
      "source": [
        "# SQL Exercises: Complex Joins and Aggregate Functions\n",
        "\n",
        "Exercise 1: Count the Total Number of Posts per User\n",
        "\n",
        "Write a query to count how many posts each user has created. This involves joining the users table with the posts table and using the COUNT() aggregate function."
      ],
      "metadata": {
        "id": "rmgypgm3oxS_"
      },
      "id": "rmgypgm3oxS_"
    },
    {
      "cell_type": "code",
      "source": [
        "cursor.execute(\"\"\"\n",
        "\"\"\")\n",
        "result = cursor.fetchall()\n",
        "result"
      ],
      "metadata": {
        "colab": {
          "base_uri": "https://localhost:8080/"
        },
        "id": "6rM9YZsUo8Wg",
        "outputId": "9a5ba0ac-11f1-43b4-9a46-8faad301b4b8"
      },
      "id": "6rM9YZsUo8Wg",
      "execution_count": null,
      "outputs": [
        {
          "output_type": "execute_result",
          "data": {
            "text/plain": [
              "[(1, 'Leanne Graham', 10),\n",
              " (2, 'Ervin Howell', 10),\n",
              " (3, 'Clementine Bauch', 10),\n",
              " (4, 'Patricia Lebsack', 10),\n",
              " (5, 'Chelsey Dietrich', 10),\n",
              " (6, 'Mrs. Dennis Schulist', 10),\n",
              " (7, 'Kurtis Weissnat', 10),\n",
              " (8, 'Nicholas Runolfsdottir V', 10),\n",
              " (9, 'Glenna Reichert', 10),\n",
              " (10, 'Clementina DuBuque', 10)]"
            ]
          },
          "metadata": {},
          "execution_count": 21
        }
      ]
    },
    {
      "cell_type": "markdown",
      "source": [
        "Exercise 2: Retrieve Users with the Most Comments on Their Posts\n",
        "\n",
        "Write a query to determine which users have received the most comments on their posts. This involves joining the users, posts, and comments tables and grouping by user."
      ],
      "metadata": {
        "id": "mIsX_zNkpKK4"
      },
      "id": "mIsX_zNkpKK4"
    },
    {
      "cell_type": "code",
      "source": [
        "cursor.execute(\"\"\"\n",
        "\"\"\")\n",
        "result = cursor.fetchall()\n",
        "result"
      ],
      "metadata": {
        "id": "cxaWSnqVpMhE",
        "colab": {
          "base_uri": "https://localhost:8080/"
        },
        "outputId": "3521e2fe-7db6-479d-97ca-37de87ede27e"
      },
      "id": "cxaWSnqVpMhE",
      "execution_count": null,
      "outputs": [
        {
          "output_type": "execute_result",
          "data": {
            "text/plain": [
              "[(1, 'Leanne Graham', 50),\n",
              " (2, 'Ervin Howell', 50),\n",
              " (3, 'Clementine Bauch', 50),\n",
              " (4, 'Patricia Lebsack', 50),\n",
              " (5, 'Chelsey Dietrich', 50),\n",
              " (6, 'Mrs. Dennis Schulist', 50),\n",
              " (7, 'Kurtis Weissnat', 50),\n",
              " (8, 'Nicholas Runolfsdottir V', 50),\n",
              " (9, 'Glenna Reichert', 50),\n",
              " (10, 'Clementina DuBuque', 50)]"
            ]
          },
          "metadata": {},
          "execution_count": 22
        }
      ]
    },
    {
      "cell_type": "markdown",
      "source": [
        "Exercise 3: List the Top 3 Most Commented Posts\n",
        "\n",
        "Write a query to find out which posts have received the most comments. Join the posts and comments tables and display the top 3 results.\n"
      ],
      "metadata": {
        "id": "EhGL-71EpOGw"
      },
      "id": "EhGL-71EpOGw"
    },
    {
      "cell_type": "code",
      "source": [
        "cursor.execute(\"\"\"\n",
        "\"\"\")\n",
        "result = cursor.fetchall()\n",
        "result"
      ],
      "metadata": {
        "id": "sNStqS2ipTd6",
        "colab": {
          "base_uri": "https://localhost:8080/"
        },
        "outputId": "5f46eaa5-c41d-44db-a6ac-d24924f17f84"
      },
      "id": "sNStqS2ipTd6",
      "execution_count": null,
      "outputs": [
        {
          "output_type": "execute_result",
          "data": {
            "text/plain": [
              "[(1,\n",
              "  'sunt aut facere repellat provident occaecati excepturi optio reprehenderit',\n",
              "  5),\n",
              " (2, 'qui est esse', 5),\n",
              " (3, 'ea molestias quasi exercitationem repellat qui ipsa sit aut', 5)]"
            ]
          },
          "metadata": {},
          "execution_count": 23
        }
      ]
    },
    {
      "cell_type": "markdown",
      "source": [
        "Exercise 4: Find Albums that Have More than 10 Photos\n",
        "\n",
        "Write a query to count how many photos are associated with each album and return only those albums that contain more than 10 photos.\n"
      ],
      "metadata": {
        "id": "-wfjXznapUn7"
      },
      "id": "-wfjXznapUn7"
    },
    {
      "cell_type": "code",
      "source": [
        "cursor.execute(\"\"\"\n",
        "\"\"\")\n",
        "result = cursor.fetchall()\n",
        "result"
      ],
      "metadata": {
        "id": "eDRE3Kc1pWY9",
        "colab": {
          "base_uri": "https://localhost:8080/"
        },
        "outputId": "ae7e9804-ce7a-4c9f-8652-c1b02834c3dc"
      },
      "id": "eDRE3Kc1pWY9",
      "execution_count": null,
      "outputs": [
        {
          "output_type": "execute_result",
          "data": {
            "text/plain": [
              "[(1, 'quidem molestiae enim', 50),\n",
              " (2, 'sunt qui excepturi placeat culpa', 50),\n",
              " (3, 'omnis laborum odio', 50),\n",
              " (4, 'non esse culpa molestiae omnis sed optio', 50),\n",
              " (5, 'eaque aut omnis a', 50),\n",
              " (6, 'natus impedit quibusdam illo est', 50),\n",
              " (7, 'quibusdam autem aliquid et et quia', 50),\n",
              " (8, 'qui fuga est a eum', 50),\n",
              " (9, 'saepe unde necessitatibus rem', 50),\n",
              " (10, 'distinctio laborum qui', 50),\n",
              " (11, 'quam nostrum impedit mollitia quod et dolor', 50),\n",
              " (12, 'consequatur autem doloribus natus consectetur', 50),\n",
              " (13, 'ab rerum non rerum consequatur ut ea unde', 50),\n",
              " (14, 'ducimus molestias eos animi atque nihil', 50),\n",
              " (15, 'ut pariatur rerum ipsum natus repellendus praesentium', 50),\n",
              " (16, 'voluptatem aut maxime inventore autem magnam atque repellat', 50),\n",
              " (17, 'aut minima voluptatem ut velit', 50),\n",
              " (18, 'nesciunt quia et doloremque', 50),\n",
              " (19, 'velit pariatur quaerat similique libero omnis quia', 50),\n",
              " (20, 'voluptas rerum iure ut enim', 50),\n",
              " (21, 'repudiandae voluptatem optio est consequatur rem in temporibus et', 50),\n",
              " (22, 'et rem non provident vel ut', 50),\n",
              " (23, 'incidunt quisquam hic adipisci sequi', 50),\n",
              " (24, 'dolores ut et facere placeat', 50),\n",
              " (25, 'vero maxime id possimus sunt neque et consequatur', 50),\n",
              " (26, 'quibusdam saepe ipsa vel harum', 50),\n",
              " (27, 'id non nostrum expedita', 50),\n",
              " (28, 'omnis neque exercitationem sed dolor atque maxime aut cum', 50),\n",
              " (29, 'inventore ut quasi magnam itaque est fugit', 50),\n",
              " (30, 'tempora assumenda et similique odit distinctio error', 50),\n",
              " (31, 'adipisci laborum fuga laboriosam', 50),\n",
              " (32, 'reiciendis dolores a ut qui debitis non quo labore', 50),\n",
              " (33, 'iste eos nostrum', 50),\n",
              " (34, 'cumque voluptatibus rerum architecto blanditiis', 50),\n",
              " (35, 'et impedit nisi quae magni necessitatibus sed aut pariatur', 50),\n",
              " (36, 'nihil cupiditate voluptate neque', 50),\n",
              " (37, 'est placeat dicta ut nisi rerum iste', 50),\n",
              " (38, 'unde a sequi id', 50),\n",
              " (39, 'ratione porro illum labore eum aperiam sed', 50),\n",
              " (40, 'voluptas neque et sint aut quo odit', 50),\n",
              " (41,\n",
              "  'ea voluptates maiores eos accusantium officiis tempore mollitia consequatur',\n",
              "  50),\n",
              " (42, 'tenetur explicabo ea', 50),\n",
              " (43, 'aperiam doloremque nihil', 50),\n",
              " (44, 'sapiente cum numquam officia consequatur vel natus quos suscipit', 50),\n",
              " (45, 'tenetur quos ea unde est enim corrupti qui', 50),\n",
              " (46, 'molestiae voluptate non', 50),\n",
              " (47, 'temporibus molestiae aut', 50),\n",
              " (48,\n",
              "  'modi consequatur culpa aut quam soluta alias perspiciatis laudantium',\n",
              "  50),\n",
              " (49, 'ut aut vero repudiandae voluptas ullam voluptas at consequatur', 50),\n",
              " (50, 'sed qui sed quas sit ducimus dolor', 50),\n",
              " (51, 'odit laboriosam sint quia cupiditate animi quis', 50),\n",
              " (52, 'necessitatibus quas et sunt at voluptatem', 50),\n",
              " (53, 'est vel sequi voluptatem nemo quam molestiae modi enim', 50),\n",
              " (54, 'aut non illo amet perferendis', 50),\n",
              " (55, 'qui culpa itaque omnis in nesciunt architecto error', 50),\n",
              " (56, 'omnis qui maiores tempora officiis omnis rerum sed repellat', 50),\n",
              " (57,\n",
              "  'libero excepturi voluptatem est architecto quae voluptatum officia tempora',\n",
              "  50),\n",
              " (58, 'nulla illo consequatur aspernatur veritatis aut error delectus et', 50),\n",
              " (59, 'eligendi similique provident nihil', 50),\n",
              " (60,\n",
              "  'omnis mollitia sunt aliquid eum consequatur fugit minus laudantium',\n",
              "  50),\n",
              " (61, 'delectus iusto et', 50),\n",
              " (62, 'eos ea non recusandae iste ut quasi', 50),\n",
              " (63, 'velit est quam', 50),\n",
              " (64, 'autem voluptatem amet iure quae', 50),\n",
              " (65, 'voluptates delectus iure iste qui', 50),\n",
              " (66, 'velit sed quia dolor dolores delectus', 50),\n",
              " (67, 'ad voluptas nostrum et nihil', 50),\n",
              " (68, 'qui quasi nihil aut voluptatum sit dolore minima', 50),\n",
              " (69, 'qui aut est', 50),\n",
              " (70, 'et deleniti unde', 50),\n",
              " (71, 'et vel corporis', 50),\n",
              " (72, 'unde exercitationem ut', 50),\n",
              " (73, 'quos omnis officia', 50),\n",
              " (74, 'quia est eius vitae dolor', 50),\n",
              " (75, 'aut quia expedita non', 50),\n",
              " (76, 'dolorem magnam facere itaque ut reprehenderit tenetur corrupti', 50),\n",
              " (77,\n",
              "  'cupiditate sapiente maiores iusto ducimus cum excepturi veritatis quia',\n",
              "  50),\n",
              " (78, 'est minima eius possimus ea ratione velit et', 50),\n",
              " (79, 'ipsa quae voluptas natus ut suscipit soluta quia quidem', 50),\n",
              " (80, 'id nihil reprehenderit', 50),\n",
              " (81, 'quibusdam sapiente et', 50),\n",
              " (82, 'recusandae consequatur vel amet unde', 50),\n",
              " (83, 'aperiam odio fugiat', 50),\n",
              " (84, 'est et at eos expedita', 50),\n",
              " (85, 'qui voluptatem consequatur aut ab quis temporibus praesentium', 50),\n",
              " (86, 'eligendi mollitia alias aspernatur vel ut iusto', 50),\n",
              " (87, 'aut aut architecto', 50),\n",
              " (88, 'quas perspiciatis optio', 50),\n",
              " (89, 'sit optio id voluptatem est eum et', 50),\n",
              " (90, 'est vel dignissimos', 50),\n",
              " (91, 'repellendus praesentium debitis officiis', 50),\n",
              " (92, 'incidunt et et eligendi assumenda soluta quia recusandae', 50),\n",
              " (93, 'nisi qui dolores perspiciatis', 50),\n",
              " (94, 'quisquam a dolores et earum vitae', 50),\n",
              " (95, 'consectetur vel rerum qui aperiam modi eos aspernatur ipsa', 50),\n",
              " (96, 'unde et ut molestiae est molestias voluptatem sint', 50),\n",
              " (97, 'est quod aut', 50),\n",
              " (98, 'omnis quia possimus nesciunt deleniti assumenda sed autem', 50),\n",
              " (99, 'consectetur ut id impedit dolores sit ad ex aut', 50),\n",
              " (100, 'enim repellat iste', 50)]"
            ]
          },
          "metadata": {},
          "execution_count": 24
        }
      ]
    },
    {
      "cell_type": "markdown",
      "source": [
        "Exercise 5: Find Users with Incomplete Todos\n",
        "\n",
        "Write a query to retrieve users who have at least one incomplete to-do item. Join the users and todos tables and use the WHERE clause to filter based on the completed field."
      ],
      "metadata": {
        "id": "1f8IoBjJpXRc"
      },
      "id": "1f8IoBjJpXRc"
    },
    {
      "cell_type": "code",
      "source": [
        "cursor.execute(\"\"\"\n",
        "\n",
        "\"\"\")\n",
        "result = cursor.fetchall()\n",
        "result"
      ],
      "metadata": {
        "id": "Jb0uGWtgpZ9G",
        "colab": {
          "base_uri": "https://localhost:8080/"
        },
        "outputId": "5f20d5f0-92e1-4d42-d49f-9172f9106ba4"
      },
      "id": "Jb0uGWtgpZ9G",
      "execution_count": null,
      "outputs": [
        {
          "output_type": "execute_result",
          "data": {
            "text/plain": [
              "[(1, 'Leanne Graham', 9),\n",
              " (2, 'Ervin Howell', 12),\n",
              " (3, 'Clementine Bauch', 13),\n",
              " (4, 'Patricia Lebsack', 14),\n",
              " (5, 'Chelsey Dietrich', 8),\n",
              " (6, 'Mrs. Dennis Schulist', 14),\n",
              " (7, 'Kurtis Weissnat', 11),\n",
              " (8, 'Nicholas Runolfsdottir V', 9),\n",
              " (9, 'Glenna Reichert', 12),\n",
              " (10, 'Clementina DuBuque', 8)]"
            ]
          },
          "metadata": {},
          "execution_count": 25
        }
      ]
    },
    {
      "cell_type": "markdown",
      "source": [
        "Exercise 6: Calculate the Average Number of Comments per Post\n",
        "\n",
        "Write a query to calculate the average number of comments per post. This involves joining the posts and comments tables and using the AVG() function.\n"
      ],
      "metadata": {
        "id": "r-G3HZKxpbAh"
      },
      "id": "r-G3HZKxpbAh"
    },
    {
      "cell_type": "code",
      "source": [
        "cursor.execute(\"\"\"\n",
        "\"\"\")\n",
        "result = cursor.fetchall()\n",
        "result"
      ],
      "metadata": {
        "id": "r3NOJTrQpdXC",
        "colab": {
          "base_uri": "https://localhost:8080/"
        },
        "outputId": "b19ef10b-6022-46ef-fc1a-87b31a8ec765"
      },
      "id": "r3NOJTrQpdXC",
      "execution_count": null,
      "outputs": [
        {
          "output_type": "execute_result",
          "data": {
            "text/plain": [
              "[(1, 1, 3.0),\n",
              " (2, 2, 8.0),\n",
              " (3, 3, 13.0),\n",
              " (4, 4, 18.0),\n",
              " (5, 5, 23.0),\n",
              " (6, 6, 28.0),\n",
              " (7, 7, 33.0),\n",
              " (8, 8, 38.0),\n",
              " (9, 9, 43.0),\n",
              " (10, 10, 48.0),\n",
              " (11, 11, 53.0),\n",
              " (12, 12, 58.0),\n",
              " (13, 13, 63.0),\n",
              " (14, 14, 68.0),\n",
              " (15, 15, 73.0),\n",
              " (16, 16, 78.0),\n",
              " (17, 17, 83.0),\n",
              " (18, 18, 88.0),\n",
              " (19, 19, 93.0),\n",
              " (20, 20, 98.0),\n",
              " (21, 21, 103.0),\n",
              " (22, 22, 108.0),\n",
              " (23, 23, 113.0),\n",
              " (24, 24, 118.0),\n",
              " (25, 25, 123.0),\n",
              " (26, 26, 128.0),\n",
              " (27, 27, 133.0),\n",
              " (28, 28, 138.0),\n",
              " (29, 29, 143.0),\n",
              " (30, 30, 148.0),\n",
              " (31, 31, 153.0),\n",
              " (32, 32, 158.0),\n",
              " (33, 33, 163.0),\n",
              " (34, 34, 168.0),\n",
              " (35, 35, 173.0),\n",
              " (36, 36, 178.0),\n",
              " (37, 37, 183.0),\n",
              " (38, 38, 188.0),\n",
              " (39, 39, 193.0),\n",
              " (40, 40, 198.0),\n",
              " (41, 41, 203.0),\n",
              " (42, 42, 208.0),\n",
              " (43, 43, 213.0),\n",
              " (44, 44, 218.0),\n",
              " (45, 45, 223.0),\n",
              " (46, 46, 228.0),\n",
              " (47, 47, 233.0),\n",
              " (48, 48, 238.0),\n",
              " (49, 49, 243.0),\n",
              " (50, 50, 248.0),\n",
              " (51, 51, 253.0),\n",
              " (52, 52, 258.0),\n",
              " (53, 53, 263.0),\n",
              " (54, 54, 268.0),\n",
              " (55, 55, 273.0),\n",
              " (56, 56, 278.0),\n",
              " (57, 57, 283.0),\n",
              " (58, 58, 288.0),\n",
              " (59, 59, 293.0),\n",
              " (60, 60, 298.0),\n",
              " (61, 61, 303.0),\n",
              " (62, 62, 308.0),\n",
              " (63, 63, 313.0),\n",
              " (64, 64, 318.0),\n",
              " (65, 65, 323.0),\n",
              " (66, 66, 328.0),\n",
              " (67, 67, 333.0),\n",
              " (68, 68, 338.0),\n",
              " (69, 69, 343.0),\n",
              " (70, 70, 348.0),\n",
              " (71, 71, 353.0),\n",
              " (72, 72, 358.0),\n",
              " (73, 73, 363.0),\n",
              " (74, 74, 368.0),\n",
              " (75, 75, 373.0),\n",
              " (76, 76, 378.0),\n",
              " (77, 77, 383.0),\n",
              " (78, 78, 388.0),\n",
              " (79, 79, 393.0),\n",
              " (80, 80, 398.0),\n",
              " (81, 81, 403.0),\n",
              " (82, 82, 408.0),\n",
              " (83, 83, 413.0),\n",
              " (84, 84, 418.0),\n",
              " (85, 85, 423.0),\n",
              " (86, 86, 428.0),\n",
              " (87, 87, 433.0),\n",
              " (88, 88, 438.0),\n",
              " (89, 89, 443.0),\n",
              " (90, 90, 448.0),\n",
              " (91, 91, 453.0),\n",
              " (92, 92, 458.0),\n",
              " (93, 93, 463.0),\n",
              " (94, 94, 468.0),\n",
              " (95, 95, 473.0),\n",
              " (96, 96, 478.0),\n",
              " (97, 97, 483.0),\n",
              " (98, 98, 488.0),\n",
              " (99, 99, 493.0),\n",
              " (100, 100, 498.0)]"
            ]
          },
          "metadata": {},
          "execution_count": 26
        }
      ]
    },
    {
      "cell_type": "markdown",
      "source": [
        "Exercise 7: Retrieve Users Who Have Both Posts and Todos\n",
        "\n",
        "Write a query to retrieve users who have created at least one post and one to-do item. You can use subqueries or a combination of JOIN and INTERSECT."
      ],
      "metadata": {
        "id": "ZLejMDk4pegv"
      },
      "id": "ZLejMDk4pegv"
    },
    {
      "cell_type": "code",
      "source": [
        "cursor.execute(\"\"\"\n",
        "\"\"\")\n",
        "result = cursor.fetchall()\n",
        "result"
      ],
      "metadata": {
        "id": "rWJXYfexpfu6",
        "colab": {
          "base_uri": "https://localhost:8080/"
        },
        "outputId": "6daf07a7-c293-4ac1-a9f3-82b0ddfb6c4c"
      },
      "id": "rWJXYfexpfu6",
      "execution_count": null,
      "outputs": [
        {
          "output_type": "execute_result",
          "data": {
            "text/plain": [
              "[(1, 'Leanne Graham', 200, 200),\n",
              " (2, 'Ervin Howell', 200, 200),\n",
              " (3, 'Clementine Bauch', 200, 200),\n",
              " (4, 'Patricia Lebsack', 200, 200),\n",
              " (5, 'Chelsey Dietrich', 200, 200),\n",
              " (6, 'Mrs. Dennis Schulist', 200, 200),\n",
              " (7, 'Kurtis Weissnat', 200, 200),\n",
              " (8, 'Nicholas Runolfsdottir V', 200, 200),\n",
              " (9, 'Glenna Reichert', 200, 200),\n",
              " (10, 'Clementina DuBuque', 200, 200)]"
            ]
          },
          "metadata": {},
          "execution_count": 27
        }
      ]
    },
    {
      "cell_type": "code",
      "source": [
        "# Close the connection\n",
        "cursor.close()\n",
        "conn.close()\n"
      ],
      "metadata": {
        "id": "X8m67QS8Fm5R"
      },
      "id": "X8m67QS8Fm5R",
      "execution_count": null,
      "outputs": []
    }
  ],
  "metadata": {
    "colab": {
      "provenance": []
    },
    "language_info": {
      "name": "python"
    },
    "kernelspec": {
      "name": "python3",
      "display_name": "Python 3"
    }
  },
  "nbformat": 4,
  "nbformat_minor": 5
}